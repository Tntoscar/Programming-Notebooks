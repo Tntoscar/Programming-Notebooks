{
 "cells": [
  {
   "cell_type": "markdown",
   "metadata": {},
   "source": [
    "# Control Statements\n",
    "\n",
    "![Hello!](https://media.giphy.com/media/ASd0Ukj0y3qMM/giphy.gif)"
   ]
  },
  {
   "cell_type": "markdown",
   "metadata": {},
   "source": [
    "# Skills\n",
    "* understand if statements\n",
    "* understand why we use elif instead of else in some cases"
   ]
  },
  {
   "cell_type": "markdown",
   "metadata": {},
   "source": [
    "## `if` statements\n",
    "We can branch code using contr\n",
    "ol statements.  \n",
    "We can do that using `if` statements.\n",
    "\n",
    "![Branching from https://programarcadegames.com](http://programarcadegames.com/chapters/03_if_statements/flowchart1_thumb.png)"
   ]
  },
  {
   "cell_type": "code",
   "execution_count": 17,
   "metadata": {
    "tags": []
   },
   "outputs": [
    {
     "name": "stdin",
     "output_type": "stream",
     "text": [
      "First Value:  5\n",
      "Second Value:  7\n"
     ]
    },
    {
     "name": "stdout",
     "output_type": "stream",
     "text": [
      " a is less then b\n",
      "done\n"
     ]
    }
   ],
   "source": [
    "# ask the user for two values:\n",
    "# floats are decimal numbers\n",
    "# cast numbers as floats or ints\n",
    "a = float(input('First Value: '))\n",
    "b = float(input('Second Value: '))\n",
    "\n",
    "if a < b: \n",
    "     print(\" a is less then b\")\n",
    "        \n",
    "if b < a:\n",
    "    print(\"b is less then a\")\n",
    "    \n",
    "print(\"done\")    "
   ]
  },
  {
   "cell_type": "markdown",
   "metadata": {},
   "source": [
    "## `elif` and `else` "
   ]
  },
  {
   "cell_type": "code",
   "execution_count": 16,
   "metadata": {},
   "outputs": [
    {
     "name": "stdin",
     "output_type": "stream",
     "text": [
      "Enter a number:  1000\n"
     ]
    },
    {
     "name": "stdout",
     "output_type": "stream",
     "text": [
      " i have lost, you are the champion now.\n",
      "poggers\n"
     ]
    }
   ],
   "source": [
    "# get input from user\n",
    "x = float(input('Enter a number: '))\n",
    "\n",
    "if x > 100:\n",
    "    print(\" i have lost, you are the champion now.\")\n",
    "    print(\"poggers\")\n",
    "elif x > 90:\n",
    "    print(\"close match.\")\n",
    "elif x > 80:\n",
    "    print(\" goodjob well done\")\n",
    "elif x > 50:\n",
    "    print(\" you'll get them next time\")\n",
    "else:\n",
    "    print(\"if you wish to defeat me, train for another 10000 years!\")"
   ]
  },
  {
   "cell_type": "markdown",
   "metadata": {},
   "source": [
    "## Booleans\n",
    "\n",
    "**Booleans** are a _**datatype**_.  \n",
    "Their values are either `True` or `False` in Python.\n",
    "\n",
    "Note:  \n",
    "Know the distinction between `'True'` and `True`  \n",
    "and equally `'False'` and `False`"
   ]
  },
  {
   "cell_type": "markdown",
   "metadata": {},
   "source": [
    "### _Aside: Checking Data Types_\n",
    "\n",
    "If you want to check the type of data, use, the function `type()`."
   ]
  },
  {
   "cell_type": "code",
   "execution_count": 1,
   "metadata": {},
   "outputs": [
    {
     "data": {
      "text/plain": [
       "bool"
      ]
     },
     "execution_count": 1,
     "metadata": {},
     "output_type": "execute_result"
    }
   ],
   "source": [
    "type(True)"
   ]
  },
  {
   "cell_type": "code",
   "execution_count": 2,
   "metadata": {},
   "outputs": [
    {
     "data": {
      "text/plain": [
       "str"
      ]
     },
     "execution_count": 2,
     "metadata": {},
     "output_type": "execute_result"
    }
   ],
   "source": [
    "type(\"True\")"
   ]
  },
  {
   "cell_type": "markdown",
   "metadata": {},
   "source": [
    "## Boolean Expressions\n",
    "\n",
    "Boolean expressions are operations that evaluate to booleans."
   ]
  },
  {
   "cell_type": "code",
   "execution_count": 8,
   "metadata": {},
   "outputs": [
    {
     "name": "stdout",
     "output_type": "stream",
     "text": [
      "False\n",
      "you'll need an umbrella\n"
     ]
    }
   ],
   "source": [
    "is_raining = True\n",
    "is_cloudy = False \n",
    "\n",
    "print(is_raining and is_cloudy)\n",
    "\n",
    "if is_raining and is_cloudy or is_raining:\n",
    "    print(\"you'll need an umbrella\")\n",
    "elif is_cloudy and not is_raining:\n",
    "    print(\"An umbrella is a good idea\")\n",
    "else:\n",
    "    print(\"leave your umbrella at home\")"
   ]
  },
  {
   "cell_type": "markdown",
   "metadata": {},
   "source": [
    "## Boolean Variables\n",
    "\n",
    "Variables can be booleans as well."
   ]
  },
  {
   "cell_type": "code",
   "execution_count": null,
   "metadata": {},
   "outputs": [],
   "source": [
    "has_quest_number_1 = False \n",
    "\n"
   ]
  },
  {
   "cell_type": "markdown",
   "metadata": {},
   "source": [
    "## Boolean Operators\n",
    "\n",
    "### Using `not`\n",
    "`not` is a unary operator  \n",
    "You only need **one operand**.\n",
    "\n",
    "| And | True|False|\n",
    "|--   |--   |--   |\n",
    "|True | True|False|\n",
    "|False|False|False|\n",
    "\n",
    "|Or   | True |Falase|\n",
    "|--   |--    |--    |\n",
    "|True |true  |true |\n",
    "|False|True  |False|"
   ]
  },
  {
   "cell_type": "code",
   "execution_count": 11,
   "metadata": {},
   "outputs": [
    {
     "data": {
      "text/plain": [
       "False"
      ]
     },
     "execution_count": 11,
     "metadata": {},
     "output_type": "execute_result"
    }
   ],
   "source": [
    "not True"
   ]
  },
  {
   "cell_type": "markdown",
   "metadata": {},
   "source": [
    "### Using `and` and `or`\n",
    "`and` and `or` are binary operators.  \n",
    "You need **two operands** to use them."
   ]
  },
  {
   "cell_type": "code",
   "execution_count": 18,
   "metadata": {},
   "outputs": [
    {
     "data": {
      "text/plain": [
       "True"
      ]
     },
     "execution_count": 18,
     "metadata": {},
     "output_type": "execute_result"
    }
   ],
   "source": [
    "True and True"
   ]
  },
  {
   "cell_type": "code",
   "execution_count": 77,
   "metadata": {},
   "outputs": [
    {
     "data": {
      "text/plain": [
       "False"
      ]
     },
     "execution_count": 77,
     "metadata": {},
     "output_type": "execute_result"
    }
   ],
   "source": [
    "False or False"
   ]
  },
  {
   "cell_type": "code",
   "execution_count": null,
   "metadata": {},
   "outputs": [],
   "source": []
  },
  {
   "cell_type": "markdown",
   "metadata": {},
   "source": [
    "---\n",
    "# Practice Questions"
   ]
  },
  {
   "cell_type": "markdown",
   "metadata": {},
   "source": [
    "## 1. What's missing from this code?"
   ]
  },
  {
   "cell_type": "code",
   "execution_count": 30,
   "metadata": {},
   "outputs": [
    {
     "name": "stdin",
     "output_type": "stream",
     "text": [
      "Temperature:  50\n"
     ]
    },
    {
     "name": "stdout",
     "output_type": "stream",
     "text": [
      "It is not hot out.\n"
     ]
    }
   ],
   "source": [
    "temperature = float(input(f'Temperature: '))\n",
    "if temperature > 90:\n",
    "    print(f'It is hot outside.')\n",
    "elif x > 80:\n",
    "    print(f'It is not hot out.')\n",
    "elif x > 70:\n",
    "    print(f\"its kinda cold not gonna lie.\")\n",
    "else:\n",
    "    print(\"stop yo complaining.\")"
   ]
  },
  {
   "cell_type": "markdown",
   "metadata": {},
   "source": [
    "## 2. What do you think this next code will print out?\n",
    "**Before you run the code,** take your best guess as to what it will print out.  \n",
    "Put your guess here:  "
   ]
  },
  {
   "cell_type": "code",
   "execution_count": 46,
   "metadata": {},
   "outputs": [
    {
     "name": "stdout",
     "output_type": "stream",
     "text": [
      "x=6\n",
      "y=False\n",
      "z=True\n",
      "Buzz\n"
     ]
    }
   ],
   "source": [
    "x = 6\n",
    "y = x == 5 # equality -> == \n",
    "z = x == 6\n",
    "print(f'x={x}')   \n",
    "print(f'y={y}')    \n",
    "print(f'z={z}')    \n",
    "if y:\n",
    "    print(f'Fizz') \n",
    "if z:\n",
    "    print(f'Buzz')"
   ]
  },
  {
   "cell_type": "markdown",
   "metadata": {},
   "source": [
    "## 3. What do you think this code will print out?\n",
    "Again, **take an educated guess before running the code.**  \n",
    "Put your answers in inline comments beside the line of code.  \n",
    "There's an example below.\n",
    "If you're guess isn't right, try and figure out why it outputs what it does."
   ]
  },
  {
   "cell_type": "code",
   "execution_count": 55,
   "metadata": {},
   "outputs": [
    {
     "name": "stdout",
     "output_type": "stream",
     "text": [
      "True\n",
      "False\n",
      "True\n",
      "True\n",
      "True\n",
      "False\n",
      "False\n",
      "True\n"
     ]
    },
    {
     "ename": "TypeError",
     "evalue": "'<' not supported between instances of 'int' and 'str'",
     "output_type": "error",
     "traceback": [
      "\u001b[0;31m---------------------------------------------------------------------------\u001b[0m",
      "\u001b[0;31mTypeError\u001b[0m                                 Traceback (most recent call last)",
      "\u001b[0;32m/var/folders/_y/1r1gfxn17_q7p3jyqpjmcz500000gx/T/ipykernel_73140/3847861927.py\u001b[0m in \u001b[0;36m<module>\u001b[0;34m\u001b[0m\n\u001b[1;32m      7\u001b[0m \u001b[0mprint\u001b[0m\u001b[0;34m(\u001b[0m \u001b[0;34m(\u001b[0m\u001b[0;36m2\u001b[0m \u001b[0;34m==\u001b[0m \u001b[0;36m2\u001b[0m\u001b[0;34m)\u001b[0m \u001b[0;34m==\u001b[0m \u001b[0;34m\"True\"\u001b[0m \u001b[0;34m)\u001b[0m   \u001b[0;31m#false\u001b[0m\u001b[0;34m\u001b[0m\u001b[0;34m\u001b[0m\u001b[0m\n\u001b[1;32m      8\u001b[0m \u001b[0mprint\u001b[0m\u001b[0;34m(\u001b[0m \u001b[0;34m(\u001b[0m\u001b[0;36m2\u001b[0m \u001b[0;34m==\u001b[0m \u001b[0;36m2\u001b[0m\u001b[0;34m)\u001b[0m \u001b[0;34m==\u001b[0m \u001b[0;32mTrue\u001b[0m \u001b[0;34m)\u001b[0m     \u001b[0;31m# false\u001b[0m\u001b[0;34m\u001b[0m\u001b[0;34m\u001b[0m\u001b[0m\n\u001b[0;32m----> 9\u001b[0;31m \u001b[0mprint\u001b[0m\u001b[0;34m(\u001b[0m\u001b[0;36m3\u001b[0m \u001b[0;34m<\u001b[0m \u001b[0;34m\"3\"\u001b[0m\u001b[0;34m)\u001b[0m             \u001b[0;31m#true\u001b[0m\u001b[0;34m\u001b[0m\u001b[0;34m\u001b[0m\u001b[0m\n\u001b[0m",
      "\u001b[0;31mTypeError\u001b[0m: '<' not supported between instances of 'int' and 'str'"
     ]
    }
   ],
   "source": [
    "print(\"3\" == \"3\")        # true\n",
    "print(\" 3\" == \"3\")       # false   \n",
    "print(3 < 4)             #true\n",
    "print(3 < 10)            #true   \n",
    "print(\"3\" < \"4\")         # true\n",
    "print(\"3\" < \"10\")        #true   \n",
    "print( (2 == 2) == \"True\" )   #false\n",
    "print( (2 == 2) == True )     # false \n",
    "print(3 < \"3\")             #true "
   ]
  },
  {
   "cell_type": "code",
   "execution_count": 49,
   "metadata": {},
   "outputs": [
    {
     "data": {
      "text/plain": [
       "True"
      ]
     },
     "execution_count": 49,
     "metadata": {},
     "output_type": "execute_result"
    }
   ],
   "source": [
    "# not equal -> !=\n",
    "3 != 1000\n"
   ]
  },
  {
   "cell_type": "markdown",
   "metadata": {},
   "source": [
    "---\n",
    "# Problem set questions\n",
    "\n",
    "Create your own quiz with five or more questions. You can ask questions that require:\n",
    "1. a number as an answer (e.g., What is 1+1?)\n",
    "2. text (e.g. What is Harry Potter's last name?)\n",
    "3. a selection (Which of these choices are correct? A, B, or C?) \n",
    "\n",
    "If you have the user enter non-numeric answers, think and cover the different ways a user could enter a correct answer. For example, if the answer is “a”, would “A” also be acceptable? \n",
    "1. Let the user know if he or she gets the question correct. Print a message depending on the user's answer.\n",
    "2. You need to keep track of how many questions they get correct.\n",
    "3. At the end of the program print the percentage of questions the user gets right."
   ]
  },
  {
   "cell_type": "markdown",
   "metadata": {},
   "source": [
    "# Requirements\n",
    "\n",
    "* Has five or more questions \n",
    "* Give the user feedback per question \n",
    "* Keep track of correct answers\n",
    "* Give them their outcome at the end\n",
    "* Should follow *style guidelines* for naming of variables and use of whitespace -- **READABILITY**"
   ]
  },
  {
   "cell_type": "code",
   "execution_count": 9,
   "metadata": {},
   "outputs": [
    {
     "name": "stdout",
     "output_type": "stream",
     "text": [
      "welcome to the quiz\n",
      "What is your name?\n"
     ]
    },
    {
     "name": "stdin",
     "output_type": "stream",
     "text": [
      " 3\n"
     ]
    },
    {
     "name": "stdout",
     "output_type": "stream",
     "text": [
      "welcome 3\n",
      "Your objective is to answer all the questions correctly.\n"
     ]
    }
   ],
   "source": [
    "import time\n",
    "score = \"Diamonds\" \n",
    "points = score\n",
    "print(\"welcome to the quiz\")\n",
    "time.sleep (5)\n",
    "print(\"What is your name?\")\n",
    "\n",
    "user_name = input() \n",
    "time.sleep(2)\n",
    "print(f\"welcome {user_name}\")\n",
    "time.sleep(2)\n",
    "print(\"Your objective is to answer all the questions correctly.\") \n"
   ]
  }
 ],
 "metadata": {
  "kernelspec": {
   "display_name": "Python 3 (ipykernel)",
   "language": "python",
   "name": "python3"
  },
  "language_info": {
   "codemirror_mode": {
    "name": "ipython",
    "version": 3
   },
   "file_extension": ".py",
   "mimetype": "text/x-python",
   "name": "python",
   "nbconvert_exporter": "python",
   "pygments_lexer": "ipython3",
   "version": "3.8.9"
  }
 },
 "nbformat": 4,
 "nbformat_minor": 4
}
