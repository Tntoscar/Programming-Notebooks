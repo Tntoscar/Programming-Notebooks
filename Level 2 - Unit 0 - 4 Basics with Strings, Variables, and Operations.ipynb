{
 "cells": [
  {
   "cell_type": "markdown",
   "metadata": {},
   "source": [
    "# Unit 0.4 - Basics"
   ]
  },
  {
   "cell_type": "markdown",
   "metadata": {},
   "source": [
    "# Strings and f-strings\n",
    "\n",
    "Strings are a datatype \n",
    "\n",
    "We use \"\" (double quotes)to surrond our strings \n",
    "\n",
    "## What does f stand for?\n",
    "\n",
    "F stands for **fast**."
   ]
  },
  {
   "cell_type": "code",
   "execution_count": 3,
   "metadata": {},
   "outputs": [
    {
     "name": "stdout",
     "output_type": "stream",
     "text": [
      "this is a regular string\n",
      "this is a fast string.\n",
      "you can do math in f-string!\n",
      "do math inside braces: 2\n",
      "whats 2+9?: 11\n"
     ]
    }
   ],
   "source": [
    "print(\"this is a regular string\")\n",
    "\n",
    "print(f\"this is a fast string.\") \n",
    "print(f\"you can do math in f-string!\") \n",
    "\n",
    "print(f\"do math inside braces: {1+1}\")\n",
    "print(f\"whats 2+9?: {2+9}\")"
   ]
  },
  {
   "cell_type": "markdown",
   "metadata": {},
   "source": [
    "## Operations in f-strings\n",
    "We use {} or **braces** to evaluate expressions inside of f-strings.\n",
    "\n",
    "### Using the Math Module\n",
    "We can import the Math module to help us calculate things\n",
    "\n",
    "https://docs.python.org/3/library/math.html\n"
   ]
  },
  {
   "cell_type": "code",
   "execution_count": 4,
   "metadata": {},
   "outputs": [
    {
     "name": "stdout",
     "output_type": "stream",
     "text": [
      "0.0\n",
      "The GCD of 10 and 688 is 2\n",
      "gcd of 10 and 688 is 2\n",
      "The square root of 24 is 4.898979485566356\n"
     ]
    }
   ],
   "source": [
    "# print(1 + 1)\n",
    "\n",
    "import math\n",
    "print(math.sin(0))\n",
    "print(f\"The GCD of 10 and 688 is {math.gcd(10, 688)}\")\n",
    "print(f\"gcd of 10 and 688 is {math.gcd(10, 688)}\")\n",
    "print(f\"The square root of 24 is {math.sqrt(24)}\")"
   ]
  },
  {
   "cell_type": "markdown",
   "metadata": {},
   "source": [
    "## String Slices"
   ]
  },
  {
   "cell_type": "code",
   "execution_count": 9,
   "metadata": {},
   "outputs": [
    {
     "name": "stdout",
     "output_type": "stream",
     "text": [
      "e\n"
     ]
    }
   ],
   "source": [
    "# Substring\n",
    "#   0123456789\n",
    "s= \"genshin is best game so far.\"\n",
    "\n",
    "print (s[1])"
   ]
  },
  {
   "cell_type": "code",
   "execution_count": 14,
   "metadata": {},
   "outputs": [
    {
     "name": "stdout",
     "output_type": "stream",
     "text": [
      "g\n",
      ".\n",
      ".\n",
      "r\n"
     ]
    }
   ],
   "source": [
    "s= \"genshin is best game so far.\" \n",
    "\n",
    "# First\n",
    "print (s[0])\n",
    "       \n",
    "# Last\n",
    "print (s[27])\n",
    "print (s[-1]) # to get last character\n",
    "print (s[-2]) # to get second to last character"
   ]
  },
  {
   "cell_type": "code",
   "execution_count": 34,
   "metadata": {},
   "outputs": [
    {
     "name": "stdout",
     "output_type": "stream",
     "text": [
      "gen\n",
      " is\n",
      "best \n",
      "genshin is best\n",
      "game so far.\n",
      "02468\n",
      "13579\n",
      "9876543210\n"
     ]
    }
   ],
   "source": [
    "# Step\n",
    "#   012345\n",
    "s= \"genshin is best game so far.\" \n",
    "\n",
    "print (s[0:3]) # gen\n",
    "print (s[7:10]) # is \n",
    "print (s[11:16])# best\n",
    "print (s[:15]) # assume its to the start of the string \n",
    "print (s[16:]) # assume its to the end of the string \n",
    "\n",
    "s= \"0123456789\"\n",
    "\n",
    "print (s[::2]) #count by 2\n",
    "print (s[1::2]) \n",
    "print (s[::-1]) #reverse string"
   ]
  },
  {
   "cell_type": "markdown",
   "metadata": {},
   "source": [
    "## Escape Sequences\n",
    "\n",
    "Sequence of characters that have a meaning besides the literal characters."
   ]
  },
  {
   "cell_type": "code",
   "execution_count": 47,
   "metadata": {},
   "outputs": [
    {
     "name": "stdout",
     "output_type": "stream",
     "text": [
      "this is one line.\n",
      " This is another line.A\n",
      "this is one line.\n",
      "\n",
      "\n",
      "this is another line.\n",
      "one entery \t second entery \t third entery\n",
      "blah\tblah\t ree\n",
      "the boys said \"hello.\"\n",
      "the boys said, \"hello\"\n"
     ]
    }
   ],
   "source": [
    "# \\n - newline\n",
    "print(\"this is one line.\\n This is another line.A\")\n",
    "\n",
    "print(\"\"\"this is one line.\n",
    "\n",
    "\n",
    "this is another line.\"\"\")\n",
    "\n",
    "# \\t - tab\n",
    "print (\"one entery \\t second entery \\t third entery\")\n",
    "print (\"blah\\tblah\\t ree\")\n",
    "\n",
    "# \\\" - inserts a literal double quote\n",
    "print(\"the boys said \\\"hello.\\\"\")\n",
    "print('the boys said, \"hello\"')"
   ]
  },
  {
   "cell_type": "markdown",
   "metadata": {},
   "source": [
    "# Variables"
   ]
  },
  {
   "cell_type": "markdown",
   "metadata": {},
   "source": [
    "`=` -- assignment operator"
   ]
  },
  {
   "cell_type": "code",
   "execution_count": 48,
   "metadata": {},
   "outputs": [],
   "source": [
    "message = \"Your time is up.\"\n",
    "\n",
    "# How do you properly name variables\n",
    "# name the m starting with a lowercase letter \n",
    "# use underscore for spaces in names\n",
    "# names of variables should be descriptive. \n",
    "\n",
    "#e.g. Abraham Lincoln's birthday\n",
    "abe_lincolns_birthday = \"February 12, 1809\"\n",
    "\n",
    "\n",
    "#obfuscate code\n",
    "\n",
    "#constantas should be named with CAPS \n",
    "MAX_HEALTH = 100 \n",
    "MAX_MP     = 150 "
   ]
  },
  {
   "cell_type": "markdown",
   "metadata": {},
   "source": [
    "## Reassignment\n",
    "\n",
    "Give an existing variable a new value."
   ]
  },
  {
   "cell_type": "code",
   "execution_count": 51,
   "metadata": {},
   "outputs": [
    {
     "name": "stdout",
     "output_type": "stream",
     "text": [
      "oscar\n",
      "lion\n"
     ]
    }
   ],
   "source": [
    "# Reassignment \n",
    "name = \"oscar\" \n",
    "print(name)\n",
    "\n",
    "name = \"lion\"\n",
    "print(name)"
   ]
  },
  {
   "cell_type": "code",
   "execution_count": 53,
   "metadata": {},
   "outputs": [
    {
     "name": "stdout",
     "output_type": "stream",
     "text": [
      "oscar\n",
      "oscar\n"
     ]
    }
   ],
   "source": [
    "# Assigning a variable to another variable\n",
    "name = \"oscar\"\n",
    "student = name\n",
    "epic_gamer = name\n",
    "\n",
    "print(student)\n",
    "print(epic_gamer)"
   ]
  },
  {
   "cell_type": "markdown",
   "metadata": {},
   "source": [
    "## Updating Variables\n",
    "\n",
    "Updating the value of a variable"
   ]
  },
  {
   "cell_type": "code",
   "execution_count": 61,
   "metadata": {},
   "outputs": [
    {
     "name": "stdout",
     "output_type": "stream",
     "text": [
      "22\n"
     ]
    }
   ],
   "source": [
    "number_of_hats = 10\n",
    "\n",
    "numbers_of_hats = number_of_hats + 1 \n",
    "\n",
    "number_of_hats += 1 # increments\n",
    "number_of_hats *= 2\n",
    "\n",
    "\n",
    "print(number_of_hats)\n",
    "\n",
    "\n",
    "\n",
    "# increment, decrement, multiplication, and division"
   ]
  },
  {
   "cell_type": "markdown",
   "metadata": {},
   "source": [
    "## Datatypes\n",
    "### What are some datatypes that we've seen?"
   ]
  },
  {
   "cell_type": "code",
   "execution_count": 7,
   "metadata": {},
   "outputs": [
    {
     "name": "stdout",
     "output_type": "stream",
     "text": [
      "Bob\n",
      "10\n"
     ]
    }
   ],
   "source": [
    "# String\n",
    "\"Tim\"\n",
    "# f-strings\n",
    "f\"Ubial\"\n",
    "\n",
    "\n",
    "# OTHER DATATYPES\n",
    "10              # number -> integer (whole)\n",
    "10.0            # number -> float\n",
    "\n",
    "False\n",
    "True            # boolean values\n",
    "[\"John\", \"Jennifer\", \"William\"]              # list\n",
    "\n",
    "#             key : valaue\n",
    "student = {\"name\": \"Bob\", \"grade\": 10, \"age\": 15}                # dictionary (like a list but key-value pairs)\n",
    "\n",
    "print(student[\"name\"])\n",
    "\n",
    "print(student[\"grade\"])"
   ]
  },
  {
   "cell_type": "markdown",
   "metadata": {},
   "source": [
    "### Casting\n",
    "What do we do to force Python to look at a string like it's a number?"
   ]
  },
  {
   "cell_type": "code",
   "execution_count": 10,
   "metadata": {},
   "outputs": [
    {
     "name": "stdout",
     "output_type": "stream",
     "text": [
      "21\n",
      "165\n"
     ]
    }
   ],
   "source": [
    "age = \"16\"              # string\n",
    "# add 5 to the age\n",
    "# print(age + 5)          #5 is an int \n",
    "\n",
    "# use a cast to force a value into another type\n",
    "print(int(age) + 5)\n",
    "print (age + str(5))"
   ]
  },
  {
   "cell_type": "code",
   "execution_count": 16,
   "metadata": {},
   "outputs": [
    {
     "name": "stdout",
     "output_type": "stream",
     "text": [
      "<class 'str'>\n",
      "<class 'int'>\n",
      "<class 'float'>\n",
      "<class 'list'>\n",
      "<class 'dict'>\n",
      "<class 'bool'>\n"
     ]
    }
   ],
   "source": [
    "# type() function\n",
    "age = \"15\"\n",
    "\n",
    "print(type(age))\n",
    "\n",
    "age = 15\n",
    "print (type(age))\n",
    "\n",
    "age = 15.0 \n",
    "print(type(age))\n",
    "\n",
    "age = [15.0]\n",
    "print(type(age))\n",
    "\n",
    "age = {\"age\": 15}\n",
    "print(type(age))\n",
    "\n",
    "age = False \n",
    "print(type(age))"
   ]
  },
  {
   "cell_type": "code",
   "execution_count": 20,
   "metadata": {},
   "outputs": [
    {
     "name": "stdout",
     "output_type": "stream",
     "text": [
      "BLAAAAAAH!BLAAAAAAH!BLAAAAAAH!BLAAAAAAH!BLAAAAAAH!BLAAAAAAH!BLAAAAAAH!BLAAAAAAH!BLAAAAAAH!BLAAAAAAH!\n",
      "BLAAAAAAH!BLAAAAAAH!BLAAAAAAH!BLAAAAAAH!\n"
     ]
    }
   ],
   "source": [
    "# Missing datatype \n",
    "exclamation = \"BLAAAAAAH!\"\n",
    "\n",
    "print(exclamation * 10) \n",
    "print(exclamation * 4)"
   ]
  },
  {
   "cell_type": "markdown",
   "metadata": {},
   "source": [
    "# Statements and Expressions\n",
    "\n",
    "A **statement** is an instruction that Python can execute.  \n",
    "> Assignment (when we assign a value to a variable) is  \n",
    "a **statement**.\n",
    "\n",
    "> e.g. `date_of_birth = \"January 22\"`\n",
    "\n",
    "An **expression** is a statement that MUST BE EVALUATED.\n",
    "> e.g. `date_of_birth_and_year = date_of_birth + \" 2020\"`"
   ]
  },
  {
   "cell_type": "markdown",
   "metadata": {},
   "source": [
    "# Order of Operations\n",
    "\n",
    "BEDMAS\n",
    "1. Brackets\n",
    "2. Exponents\n",
    "3. Division and Multiplication\n",
    "4. The rest\n",
    "\n",
    "Evaluates from left-to-right, inside-to-outside"
   ]
  },
  {
   "cell_type": "code",
   "execution_count": 53,
   "metadata": {},
   "outputs": [
    {
     "name": "stdout",
     "output_type": "stream",
     "text": [
      "144.0\n",
      "144\n",
      "144\n",
      "144\n",
      "144\n"
     ]
    }
   ],
   "source": [
    "# E.g.\n",
    "equation = (4 + (23 - 4 + (32/2)) * 4) \n",
    "            \n",
    "#evaluation step-by-step\n",
    "print(4 + (23 - 4 + (32/2)) * 4)\n",
    "print(4 + (23 - 4 + 16    ) * 4)            \n",
    "print(4 + 35              * 4)\n",
    "print(4 + 140) \n",
    "print(144)            "
   ]
  },
  {
   "cell_type": "code",
   "execution_count": 43,
   "metadata": {},
   "outputs": [
    {
     "name": "stdout",
     "output_type": "stream",
     "text": [
      "27\n",
      "\n",
      "3.3333333333333335\n",
      "3\n",
      "\n",
      "1\n",
      "2\n",
      "\n",
      "0\n",
      "1\n",
      "0\n",
      "1\n",
      "0\n",
      "1\n",
      "0\n"
     ]
    }
   ],
   "source": [
    "# Other Operators\n",
    "\n",
    "# Exponents **\n",
    "print(3**3)\n",
    "\n",
    "\n",
    "# Floor division // (gives the result in an int)\n",
    "print()\n",
    "print(10/3)\n",
    "print(10 // 3)\n",
    "\n",
    "\n",
    "# Find the remainder % Modulo\n",
    "print()\n",
    "print(10 % 3)        #3ri\n",
    "print(11 % 3)\n",
    "# e.g. use of Modulo -- calculating if something is divisible\n",
    "# Defintion of an even number is if you can \n",
    "#divide the number by two evenly \n",
    "print ()\n",
    "print (2 % 2)\n",
    "print (3 % 2)\n",
    "print (4 % 2)\n",
    "print (5 % 2)\n",
    "print (6 % 2)\n",
    "print(1023045 % 2)\n",
    "\n",
    "print(1023050 % 7)"
   ]
  },
  {
   "cell_type": "markdown",
   "metadata": {},
   "source": [
    "## Input\n",
    "### How do we get input from a user?"
   ]
  },
  {
   "cell_type": "code",
   "execution_count": 45,
   "metadata": {},
   "outputs": [
    {
     "name": "stdout",
     "output_type": "stream",
     "text": [
      "what is your name?\n"
     ]
    },
    {
     "name": "stdin",
     "output_type": "stream",
     "text": [
      " lion\n"
     ]
    },
    {
     "name": "stdout",
     "output_type": "stream",
     "text": [
      "hello, lion!\n",
      "Nice to meet you!\n"
     ]
    }
   ],
   "source": [
    "# Use the input() function \n",
    "print(\"what is your name?\") \n",
    "\n",
    "user_name = input() \n",
    "\n",
    "print(f\"hello, {user_name}!\")\n",
    "print(\"Nice to meet you!\")"
   ]
  },
  {
   "cell_type": "markdown",
   "metadata": {},
   "source": [
    "---\n",
    "---\n",
    "# Practice\n",
    "Take some time to work through the examples below for practice."
   ]
  },
  {
   "cell_type": "markdown",
   "metadata": {},
   "source": [
    "## Fahrenheit to Celsius\n",
    "Create a program that asks the user for a temperature in Fahrenheit, and then prints the temperature in Celsius.\n",
    "\n",
    "The formula for conversion is:  \n",
    "`C = (F − 32) × 5/9 `"
   ]
  },
  {
   "cell_type": "code",
   "execution_count": 15,
   "metadata": {},
   "outputs": [
    {
     "name": "stdout",
     "output_type": "stream",
     "text": [
      "whats the temperature you want to convert from fahrenheit\n"
     ]
    },
    {
     "name": "stdin",
     "output_type": "stream",
     "text": [
      " 67\n"
     ]
    },
    {
     "name": "stdout",
     "output_type": "stream",
     "text": [
      "67.0 F is 19.444444444444443 C.\n"
     ]
    }
   ],
   "source": [
    "print(\"whats the temperature you want to convert from fahrenheit\")\n",
    "temp_f = float(input())\n",
    "\n",
    "degree_celsius = (temp_f - 32) * 5/9\n",
    "\n",
    "print(f\"{temp_f} F is {degree_celsius} C.\")"
   ]
  },
  {
   "cell_type": "markdown",
   "metadata": {},
   "source": [
    "## Radius of Circle\n",
    "\n",
    "Create a program that takes the radius of a circle and calculates its area.\n",
    "\n",
    "The formula to calculate the area is:  \n",
    "`A = pi * r ^ 2`  \n",
    "\n",
    "Note:  \n",
    "In order to use pi, **import the math module**.  \n",
    "It has the constant, pi, that you can use.\n",
    "You can use it by using `math.pi`."
   ]
  },
  {
   "cell_type": "code",
   "execution_count": 20,
   "metadata": {},
   "outputs": [
    {
     "name": "stdin",
     "output_type": "stream",
     "text": [
      "What's the radius of your circle? 10\n"
     ]
    },
    {
     "name": "stdout",
     "output_type": "stream",
     "text": [
      "The area of a circle with radius 10.0 unit is...\n",
      "314.1592653589793square units.\n"
     ]
    }
   ],
   "source": [
    "import math\n",
    "import time\n",
    "\n",
    "radius = float (input(\"What's the radius of your circle?\"))\n",
    "\n",
    "area = math.pi * radius ** 2\n",
    "\n",
    "print(f\"The area of a circle with radius {radius} unit is...\")\n",
    "time.sleep(5)\n",
    "print(f\"{area}square units.\") "
   ]
  },
  {
   "cell_type": "markdown",
   "metadata": {},
   "source": [
    "## Compound Interest\n",
    "\n",
    "![Compound Interest](http://www.ourpursuitofperfection.com/wp-content/uploads/2017/06/compound-interest-formula-diagram.png)\n",
    "\n",
    "Write a Python program that has a **principal amount of 15000**, **compounds monthly** (n = 12), and has an **interest rate of 8%** (0.08). Then have the program ask the user for the number of years, t. Calculate and print the final amount after t years."
   ]
  },
  {
   "cell_type": "code",
   "execution_count": 25,
   "metadata": {},
   "outputs": [
    {
     "name": "stdin",
     "output_type": "stream",
     "text": [
      "How many years are you investing for? 10\n"
     ]
    },
    {
     "name": "stdout",
     "output_type": "stream",
     "text": [
      " You will have 33294.60351817066 dollars after 10.0 years\n"
     ]
    }
   ],
   "source": [
    "# set up variables\n",
    "\n",
    "principal = 15000\n",
    "n = 12 \n",
    "rate = 0.08 \n",
    "\n",
    "# do the calculation\n",
    "time = float(input(\"How many years are you investing for?\"))\n",
    "\n",
    "amount = principal * (1 + (rate / n)) ** (n * time) \n",
    "# print the output \n",
    "print(f\" You will have {amount} dollars after {time} years\")\n"
   ]
  },
  {
   "cell_type": "markdown",
   "metadata": {},
   "source": [
    "## Evaluating Expressions\n",
    "\n",
    "Evaluate the following expressions in your head. Use the code cell below to see if you're correct.\n",
    "\n",
    "    5 ** 2\n",
    "\n",
    "    9 * 5\n",
    "\n",
    "    15 / 12\n",
    "\n",
    "    12 / 15\n",
    "\n",
    "    15 // 12\n",
    "\n",
    "    12 // 15\n",
    "\n",
    "    5 % 2\n",
    "\n",
    "    9 % 5\n",
    "\n",
    "    15 % 12\n",
    "\n",
    "    12 % 15\n",
    "\n",
    "    6 % 6\n",
    "\n",
    "    0 % 7\n"
   ]
  },
  {
   "cell_type": "code",
   "execution_count": 56,
   "metadata": {},
   "outputs": [
    {
     "name": "stdout",
     "output_type": "stream",
     "text": [
      "25\n",
      "45\n",
      "1.25\n",
      "1\n",
      "0\n",
      "1\n",
      "4\n",
      "3\n",
      "12\n",
      "0\n",
      "0\n"
     ]
    }
   ],
   "source": [
    "print(5 ** 2)\n",
    "print(9 * 5)\n",
    "print(15 / 12)\n",
    "print(15 // 12)\n",
    "print(12 // 15)\n",
    "print( 5 % 2) \n",
    "print(9 % 5)\n",
    "print(15 % 12)\n",
    "print(12 % 15)\n",
    "print(6 % 6)\n",
    "print(0% 7)"
   ]
  },
  {
   "cell_type": "markdown",
   "metadata": {},
   "source": [
    "## Order of Operations\n",
    "\n",
    "Evaluate the following expression using the proper order of operations used in Python.\n",
    "\n",
    "2 + (3 - 1) * 10 / 5 * (2 + 3)"
   ]
  },
  {
   "cell_type": "code",
   "execution_count": 66,
   "metadata": {},
   "outputs": [
    {
     "name": "stdout",
     "output_type": "stream",
     "text": [
      "22.0\n",
      "22.0\n",
      "22\n",
      "22\n",
      "22\n",
      "22\n"
     ]
    }
   ],
   "source": [
    "equation = 2 + (3 - 1) * 10 / 5 * (2 + 3) \n",
    "print(2 + (3 - 1) * 10 / 5 * (2 + 3))\n",
    "print(2 + 2 * 10 / 5 * 5)\n",
    "print(2 + 2 * 2 * 5)\n",
    "print(2 + 4 * 5)\n",
    "print(2 + 20)\n",
    "print(22)"
   ]
  },
  {
   "cell_type": "markdown",
   "metadata": {},
   "source": [
    "## Translating Time and Alarms\n",
    "\n",
    "_Problem_: In Europe, time is generally told using the 24h clock (e.g. 11:00 is 11:00am and 23:00 is 11:00pm, 00:00 is midnight). Using this standard of time, if it is 13:00 and you set your alarm to go off in 50 hours, it will be 15:00 (3:00pm).\n",
    "\n",
    "Write a Python program in the code cell below to solve the general version of the above problem.  \n",
    "Ask the user for the time now (in hours), and then ask for the number of hours to wait for the alarm.  \n",
    "Your program should output what the time will be on the clock when the alarm goes off."
   ]
  },
  {
   "cell_type": "code",
   "execution_count": 46,
   "metadata": {},
   "outputs": [
    {
     "name": "stdin",
     "output_type": "stream",
     "text": [
      " what is the tme now? 5\n",
      " how many hours in the futer do u want to set your alarm for? 5\n"
     ]
    },
    {
     "name": "stdout",
     "output_type": "stream",
     "text": [
      "The alarm time is 10:00.\n"
     ]
    }
   ],
   "source": [
    "time_now = input(\" what is the tme now?\")\n",
    "\n",
    "time_alarm = input(\" how many hours in the futer do u want to set your alarm for?\")\n",
    "\n",
    "time_alarm = (int(time_now) + int(time_alarm)) % 24\n",
    "\n",
    "print(f\"The alarm time is {time_alarm}:00.\")\n"
   ]
  },
  {
   "cell_type": "code",
   "execution_count": null,
   "metadata": {},
   "outputs": [],
   "source": []
  },
  {
   "cell_type": "code",
   "execution_count": null,
   "metadata": {},
   "outputs": [],
   "source": []
  }
 ],
 "metadata": {
  "kernelspec": {
   "display_name": "Python 3 (ipykernel)",
   "language": "python",
   "name": "python3"
  },
  "language_info": {
   "codemirror_mode": {
    "name": "ipython",
    "version": 3
   },
   "file_extension": ".py",
   "mimetype": "text/x-python",
   "name": "python",
   "nbconvert_exporter": "python",
   "pygments_lexer": "ipython3",
   "version": "3.8.9"
  }
 },
 "nbformat": 4,
 "nbformat_minor": 4
}
